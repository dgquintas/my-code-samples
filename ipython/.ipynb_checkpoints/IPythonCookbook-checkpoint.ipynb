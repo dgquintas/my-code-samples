{
 "metadata": {
  "name": "",
  "signature": "sha256:04779990e5f3302d1e452b74b486451b294f7bbc939a863526e07ebed96a0d6a"
 },
 "nbformat": 3,
 "nbformat_minor": 0,
 "worksheets": []
}