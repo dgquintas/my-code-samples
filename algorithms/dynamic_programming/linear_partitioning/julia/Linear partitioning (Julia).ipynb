{
 "metadata": {
  "language": "Julia",
  "name": "",
  "signature": "sha256:70dfa5d55dc8621fa02a07e4a9098906a576a92732907fa80cbd5110a7509ec0"
 },
 "nbformat": 3,
 "nbformat_minor": 0,
 "worksheets": [
  {
   "cells": [
    {
     "cell_type": "markdown",
     "metadata": {},
     "source": [
      "The problem is how to partition a sequence, without reordering the elements, in $k$ parts such that the sum of each the values of each section is as evently distributed as possible.\n",
      "\n",
      "The first realization is that the $k$-th section will be delimeted by an index $i$ (inclusive): $v[0..i-1] || v[i..n]$ where $n$ is the input's size. The remainder of the input, $v[0..i-1]$, is a subproblem that can be solved recursively. The problem has *optimal substructure*: \n",
      "\n",
      "> Principle of Optimality: An optimal policy has the property that whatever the initial state and initial decision are, the remaining decisions must constitute an optimal policy with regard to the state resulting from the first decision.\n",
      "\n",
      "If the $k$-th section is optimal, the subproblems are unaffected by this decision.\n",
      "\n",
      "When selecting the index $i$ delimiting the last ($k$-th) chunk, we want the $i$ that minimizes the maximum value of a partition across all partitions:\n",
      "\n",
      "$$ M[k, n] = \\min_{i}\\left[{\\max{\\left( M[k-1, i-1], \\sum_{j=i}^{n} v_j \\right)}}\\right] $$\n",
      "\n",
      "The bases cases are:\n",
      "- Single partition: $M[1, n] = \\sum_{i=1}^{n} v_i \\quad \\forall{n}$.\n",
      "- Single element: $M[k, 1] = v_1$.\n",
      "\n",
      "On top of a $k \\times n$ matrix $M$ for the costs, we also need anoter $k \\times n$ one, $D$, for the $i$ selected for each problem instance."
     ]
    },
    {
     "cell_type": "code",
     "collapsed": false,
     "input": [
      "function PrefixSums(v)\n",
      "    if length(v) == 0\n",
      "        return v\n",
      "    end\n",
      "    p = Array(Int64, length(v))\n",
      "    p[1] = v[1]\n",
      "    for i in 2:length(v)\n",
      "        p[i] = p[i-1] + v[i]\n",
      "    end\n",
      "    p\n",
      "end\n",
      "\n",
      "function LinearPartition(v, k)\n",
      "    const n = size(v, 1)\n",
      "    const kUninitialized = -1\n",
      "    M = fill(kUninitialized, (k, n))  # Cost matrix.\n",
      "    D = fill(kUninitialized, (k, n))  # Index matrix.\n",
      "    \n",
      "    M[1,:] = cumsum(v)\n",
      "    M[:,1] = v[1]  # broadcasting \n",
      "    \n",
      "    const prefix_sums = PrefixSums(v)\n",
      "    \n",
      "    function GetIndices(D)\n",
      "        k, n = size(D)\n",
      "        indices = Int[]\n",
      "        push!(indices, n)\n",
      "        while k >= 1\n",
      "            i = D[k,n]\n",
      "            if i == kUninitialized break end\n",
      "            push!(indices, i)\n",
      "            k -= 1\n",
      "            n = i\n",
      "        end\n",
      "        push!(indices, 0)\n",
      "        reverse!(indices)\n",
      "        indices\n",
      "    end\n",
      "\n",
      "    function GetPartitions(indices)\n",
      "        idx_pairs = [(indices[i]+1, indices[i+1]) for i in 1:length(indices)-1]\n",
      "        [v[colon(idx_pair...)] for idx_pair in idx_pairs]\n",
      "    end\n",
      "    \n",
      "    function Solve(k, n)\n",
      "        # println(\"Solve[$k, $n]\")\n",
      "        if M[k,n] == -1\n",
      "            candidates = [max(Solve(k-1, i-1), prefix_sums[n] - prefix_sums[i-1]) for i in 2:n]\n",
      "            # println(\"[$k, $n] Candidates: $candidates\")\n",
      "            M[k,n], D[k,n] = findmin(candidates)\n",
      "        end\n",
      "        # println(\"Solve[$k, $n] returning $(M[k,n])\\n\")\n",
      "        M[k,n]\n",
      "    end\n",
      "        \n",
      "    Solve(k, n);\n",
      "    indices = GetIndices(D)\n",
      "    GetPartitions(indices)\n",
      "end"
     ],
     "language": "python",
     "metadata": {},
     "outputs": [
      {
       "metadata": {},
       "output_type": "pyout",
       "prompt_number": 20,
       "text": [
        "LinearPartition (generic function with 1 method)"
       ]
      }
     ],
     "prompt_number": 20
    },
    {
     "cell_type": "code",
     "collapsed": false,
     "input": [
      "v = [32, 48, 72, 96, 120, 144, 168, 184, 216, 240, 272, 304, 320, 352, 384, 408,\n",
      "440, 464, 496, 528, 560, 584, 617, 648, 672, 704, 736, 768, 800, 832, 864, 896,\n",
      "920, 952, 992, 1024, 1056, 1088, 1080]\n",
      "\n",
      "indices, partitions = LinearPartition(v, 15)\n",
      "[(p, sum(p)) for p in partitions]"
     ],
     "language": "python",
     "metadata": {},
     "outputs": [
      {
       "metadata": {},
       "output_type": "pyout",
       "prompt_number": 21,
       "text": [
        "15-element Array{(Any,Any),1}:\n",
        " ([32,48,72,96,120,144,168,184,216,240,272],1592)\n",
        " ([304,320,352,384,408],1768)                    \n",
        " ([440,464,496],1400)                            \n",
        " ([528,560,584],1672)                            \n",
        " ([617,648],1265)                                \n",
        " ([672,704],1376)                                \n",
        " ([736,768],1504)                                \n",
        " ([800,832],1632)                                \n",
        " ([864,896],1760)                                \n",
        " ([920,952],1872)                                \n",
        " ([992],992)                                     \n",
        " ([1024],1024)                                   \n",
        " ([1056],1056)                                   \n",
        " ([1088],1088)                                   \n",
        " ([1080],1080)                                   "
       ]
      }
     ],
     "prompt_number": 21
    },
    {
     "cell_type": "code",
     "collapsed": false,
     "input": [
      "@time LinearPartition(v, 15)"
     ],
     "language": "python",
     "metadata": {},
     "outputs": [
      {
       "output_type": "stream",
       "stream": "stdout",
       "text": [
        "elapsed time: 0."
       ]
      },
      {
       "output_type": "stream",
       "stream": "stdout",
       "text": [
        "004331041 seconds (431840 bytes allocated)\n"
       ]
      },
      {
       "metadata": {},
       "output_type": "pyout",
       "prompt_number": 10,
       "text": [
        "15-element Array{Array{Int64,1},1}:\n",
        " [32,48,72,96,120,144,168,184,216,240,272]\n",
        " [304,320,352,384,408]                    \n",
        " [440,464,496]                            \n",
        " [528,560,584]                            \n",
        " [617,648]                                \n",
        " [672,704]                                \n",
        " [736,768]                                \n",
        " [800,832]                                \n",
        " [864,896]                                \n",
        " [920,952]                                \n",
        " [992]                                    \n",
        " [1024]                                   \n",
        " [1056]                                   \n",
        " [1088]                                   \n",
        " [1080]                                   "
       ]
      }
     ],
     "prompt_number": 10
    },
    {
     "cell_type": "code",
     "collapsed": false,
     "input": [],
     "language": "python",
     "metadata": {},
     "outputs": []
    },
    {
     "cell_type": "code",
     "collapsed": false,
     "input": [],
     "language": "python",
     "metadata": {},
     "outputs": []
    }
   ],
   "metadata": {}
  }
 ]
}